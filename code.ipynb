{
  "nbformat": 4,
  "nbformat_minor": 0,
  "metadata": {
    "colab": {
      "name": "FinalAssessment.ipynb",
      "provenance": [],
      "collapsed_sections": []
    },
    "kernelspec": {
      "name": "python3",
      "display_name": "Python 3"
    },
    "language_info": {
      "name": "python"
    }
  },
  "cells": [
    {
      "cell_type": "code",
      "execution_count": null,
      "metadata": {
        "colab": {
          "base_uri": "https://localhost:8080/"
        },
        "id": "z63st21A5twl",
        "outputId": "8e9f0c87-808b-4849-aa85-ea75914c4050"
      },
      "outputs": [
        {
          "output_type": "stream",
          "name": "stdout",
          "text": [
            "Mounted at /content/gdrive\n"
          ]
        }
      ],
      "source": [
        "import io\n",
        "import requests\n",
        "from google.colab import drive\n",
        "drive.mount('/content/gdrive', force_remount=True)"
      ]
    },
    {
      "cell_type": "code",
      "source": [
        "# Import dataset\n",
        "import pandas as pd\n",
        "DATA_DIR = \"/content/gdrive/MyDrive/Principles of AI/ccfrauddetection.csv\"\n",
        "fraudDetection_df = pd.read_csv (DATA_DIR, header=0)\n",
        "fraudDetection_df.head()"
      ],
      "metadata": {
        "colab": {
          "base_uri": "https://localhost:8080/",
          "height": 204
        },
        "id": "77clWcUt55fU",
        "outputId": "7371b238-8186-41d9-beac-b02644146b1a"
      },
      "execution_count": null,
      "outputs": [
        {
          "output_type": "execute_result",
          "data": {
            "text/plain": [
              "   Time        V1        V2        V3        V4        V5        V6        V7  \\\n",
              "0   0.0 -1.359807 -0.072781  2.536347  1.378155 -0.551600 -0.617801 -0.311169   \n",
              "1   0.0  1.191857  0.266151  0.166480  0.448154  1.612727  1.065235 -0.143772   \n",
              "2   1.0 -1.358354 -1.340163  1.773209  0.379780  0.624501  0.066084 -0.165946   \n",
              "3   1.0 -0.966272 -0.185226  1.792993 -0.863291 -0.226487  0.178228 -0.287924   \n",
              "4   2.0 -1.158233  0.877737  1.548718  0.403034 -0.822843  0.538196 -1.119670   \n",
              "\n",
              "   Amount  Class  \n",
              "0  149.62      0  \n",
              "1    2.69      0  \n",
              "2  378.66      0  \n",
              "3  123.50      0  \n",
              "4   69.99      0  "
            ],
            "text/html": [
              "\n",
              "  <div id=\"df-354eeebe-faf1-47aa-bfe2-39e867154a18\">\n",
              "    <div class=\"colab-df-container\">\n",
              "      <div>\n",
              "<style scoped>\n",
              "    .dataframe tbody tr th:only-of-type {\n",
              "        vertical-align: middle;\n",
              "    }\n",
              "\n",
              "    .dataframe tbody tr th {\n",
              "        vertical-align: top;\n",
              "    }\n",
              "\n",
              "    .dataframe thead th {\n",
              "        text-align: right;\n",
              "    }\n",
              "</style>\n",
              "<table border=\"1\" class=\"dataframe\">\n",
              "  <thead>\n",
              "    <tr style=\"text-align: right;\">\n",
              "      <th></th>\n",
              "      <th>Time</th>\n",
              "      <th>V1</th>\n",
              "      <th>V2</th>\n",
              "      <th>V3</th>\n",
              "      <th>V4</th>\n",
              "      <th>V5</th>\n",
              "      <th>V6</th>\n",
              "      <th>V7</th>\n",
              "      <th>Amount</th>\n",
              "      <th>Class</th>\n",
              "    </tr>\n",
              "  </thead>\n",
              "  <tbody>\n",
              "    <tr>\n",
              "      <th>0</th>\n",
              "      <td>0.0</td>\n",
              "      <td>-1.359807</td>\n",
              "      <td>-0.072781</td>\n",
              "      <td>2.536347</td>\n",
              "      <td>1.378155</td>\n",
              "      <td>-0.551600</td>\n",
              "      <td>-0.617801</td>\n",
              "      <td>-0.311169</td>\n",
              "      <td>149.62</td>\n",
              "      <td>0</td>\n",
              "    </tr>\n",
              "    <tr>\n",
              "      <th>1</th>\n",
              "      <td>0.0</td>\n",
              "      <td>1.191857</td>\n",
              "      <td>0.266151</td>\n",
              "      <td>0.166480</td>\n",
              "      <td>0.448154</td>\n",
              "      <td>1.612727</td>\n",
              "      <td>1.065235</td>\n",
              "      <td>-0.143772</td>\n",
              "      <td>2.69</td>\n",
              "      <td>0</td>\n",
              "    </tr>\n",
              "    <tr>\n",
              "      <th>2</th>\n",
              "      <td>1.0</td>\n",
              "      <td>-1.358354</td>\n",
              "      <td>-1.340163</td>\n",
              "      <td>1.773209</td>\n",
              "      <td>0.379780</td>\n",
              "      <td>0.624501</td>\n",
              "      <td>0.066084</td>\n",
              "      <td>-0.165946</td>\n",
              "      <td>378.66</td>\n",
              "      <td>0</td>\n",
              "    </tr>\n",
              "    <tr>\n",
              "      <th>3</th>\n",
              "      <td>1.0</td>\n",
              "      <td>-0.966272</td>\n",
              "      <td>-0.185226</td>\n",
              "      <td>1.792993</td>\n",
              "      <td>-0.863291</td>\n",
              "      <td>-0.226487</td>\n",
              "      <td>0.178228</td>\n",
              "      <td>-0.287924</td>\n",
              "      <td>123.50</td>\n",
              "      <td>0</td>\n",
              "    </tr>\n",
              "    <tr>\n",
              "      <th>4</th>\n",
              "      <td>2.0</td>\n",
              "      <td>-1.158233</td>\n",
              "      <td>0.877737</td>\n",
              "      <td>1.548718</td>\n",
              "      <td>0.403034</td>\n",
              "      <td>-0.822843</td>\n",
              "      <td>0.538196</td>\n",
              "      <td>-1.119670</td>\n",
              "      <td>69.99</td>\n",
              "      <td>0</td>\n",
              "    </tr>\n",
              "  </tbody>\n",
              "</table>\n",
              "</div>\n",
              "      <button class=\"colab-df-convert\" onclick=\"convertToInteractive('df-354eeebe-faf1-47aa-bfe2-39e867154a18')\"\n",
              "              title=\"Convert this dataframe to an interactive table.\"\n",
              "              style=\"display:none;\">\n",
              "        \n",
              "  <svg xmlns=\"http://www.w3.org/2000/svg\" height=\"24px\"viewBox=\"0 0 24 24\"\n",
              "       width=\"24px\">\n",
              "    <path d=\"M0 0h24v24H0V0z\" fill=\"none\"/>\n",
              "    <path d=\"M18.56 5.44l.94 2.06.94-2.06 2.06-.94-2.06-.94-.94-2.06-.94 2.06-2.06.94zm-11 1L8.5 8.5l.94-2.06 2.06-.94-2.06-.94L8.5 2.5l-.94 2.06-2.06.94zm10 10l.94 2.06.94-2.06 2.06-.94-2.06-.94-.94-2.06-.94 2.06-2.06.94z\"/><path d=\"M17.41 7.96l-1.37-1.37c-.4-.4-.92-.59-1.43-.59-.52 0-1.04.2-1.43.59L10.3 9.45l-7.72 7.72c-.78.78-.78 2.05 0 2.83L4 21.41c.39.39.9.59 1.41.59.51 0 1.02-.2 1.41-.59l7.78-7.78 2.81-2.81c.8-.78.8-2.07 0-2.86zM5.41 20L4 18.59l7.72-7.72 1.47 1.35L5.41 20z\"/>\n",
              "  </svg>\n",
              "      </button>\n",
              "      \n",
              "  <style>\n",
              "    .colab-df-container {\n",
              "      display:flex;\n",
              "      flex-wrap:wrap;\n",
              "      gap: 12px;\n",
              "    }\n",
              "\n",
              "    .colab-df-convert {\n",
              "      background-color: #E8F0FE;\n",
              "      border: none;\n",
              "      border-radius: 50%;\n",
              "      cursor: pointer;\n",
              "      display: none;\n",
              "      fill: #1967D2;\n",
              "      height: 32px;\n",
              "      padding: 0 0 0 0;\n",
              "      width: 32px;\n",
              "    }\n",
              "\n",
              "    .colab-df-convert:hover {\n",
              "      background-color: #E2EBFA;\n",
              "      box-shadow: 0px 1px 2px rgba(60, 64, 67, 0.3), 0px 1px 3px 1px rgba(60, 64, 67, 0.15);\n",
              "      fill: #174EA6;\n",
              "    }\n",
              "\n",
              "    [theme=dark] .colab-df-convert {\n",
              "      background-color: #3B4455;\n",
              "      fill: #D2E3FC;\n",
              "    }\n",
              "\n",
              "    [theme=dark] .colab-df-convert:hover {\n",
              "      background-color: #434B5C;\n",
              "      box-shadow: 0px 1px 3px 1px rgba(0, 0, 0, 0.15);\n",
              "      filter: drop-shadow(0px 1px 2px rgba(0, 0, 0, 0.3));\n",
              "      fill: #FFFFFF;\n",
              "    }\n",
              "  </style>\n",
              "\n",
              "      <script>\n",
              "        const buttonEl =\n",
              "          document.querySelector('#df-354eeebe-faf1-47aa-bfe2-39e867154a18 button.colab-df-convert');\n",
              "        buttonEl.style.display =\n",
              "          google.colab.kernel.accessAllowed ? 'block' : 'none';\n",
              "\n",
              "        async function convertToInteractive(key) {\n",
              "          const element = document.querySelector('#df-354eeebe-faf1-47aa-bfe2-39e867154a18');\n",
              "          const dataTable =\n",
              "            await google.colab.kernel.invokeFunction('convertToInteractive',\n",
              "                                                     [key], {});\n",
              "          if (!dataTable) return;\n",
              "\n",
              "          const docLinkHtml = 'Like what you see? Visit the ' +\n",
              "            '<a target=\"_blank\" href=https://colab.research.google.com/notebooks/data_table.ipynb>data table notebook</a>'\n",
              "            + ' to learn more about interactive tables.';\n",
              "          element.innerHTML = '';\n",
              "          dataTable['output_type'] = 'display_data';\n",
              "          await google.colab.output.renderOutput(dataTable, element);\n",
              "          const docLink = document.createElement('div');\n",
              "          docLink.innerHTML = docLinkHtml;\n",
              "          element.appendChild(docLink);\n",
              "        }\n",
              "      </script>\n",
              "    </div>\n",
              "  </div>\n",
              "  "
            ]
          },
          "metadata": {},
          "execution_count": 3
        }
      ]
    },
    {
      "cell_type": "code",
      "source": [
        "# Total number of transaction \n",
        "len(fraudDetection_df)"
      ],
      "metadata": {
        "colab": {
          "base_uri": "https://localhost:8080/"
        },
        "id": "WM5k11tH7IqT",
        "outputId": "9684291f-e77c-423a-8420-4d2025ab8e31"
      },
      "execution_count": null,
      "outputs": [
        {
          "output_type": "execute_result",
          "data": {
            "text/plain": [
              "284807"
            ]
          },
          "metadata": {},
          "execution_count": 4
        }
      ]
    },
    {
      "cell_type": "code",
      "source": [
        "print(\"Number of normal transaction in the dataset\")\n",
        "fraudDetection_df['Class'].value_counts()[0]"
      ],
      "metadata": {
        "colab": {
          "base_uri": "https://localhost:8080/"
        },
        "id": "YjPXijN39Mqb",
        "outputId": "4375054b-b8f5-4426-c92f-0312f25fd60c"
      },
      "execution_count": null,
      "outputs": [
        {
          "output_type": "stream",
          "name": "stdout",
          "text": [
            "Number of normal transaction in the dataset\n"
          ]
        },
        {
          "output_type": "execute_result",
          "data": {
            "text/plain": [
              "284315"
            ]
          },
          "metadata": {},
          "execution_count": 30
        }
      ]
    },
    {
      "cell_type": "code",
      "source": [
        "print(\"Number of fraud transaction in the dataset\")\n",
        "fraudDetection_df['Class'].value_counts()[1]"
      ],
      "metadata": {
        "colab": {
          "base_uri": "https://localhost:8080/"
        },
        "id": "4acnoGKA_kFy",
        "outputId": "1e37b134-51ba-4729-e772-c131999e836f"
      },
      "execution_count": null,
      "outputs": [
        {
          "output_type": "stream",
          "name": "stdout",
          "text": [
            "Number of fraud transaction in the dataset\n"
          ]
        },
        {
          "output_type": "execute_result",
          "data": {
            "text/plain": [
              "492"
            ]
          },
          "metadata": {},
          "execution_count": 31
        }
      ]
    },
    {
      "cell_type": "code",
      "source": [
        "# Percentage of fraud transaction \n",
        "fraudDetection_df['Class'].value_counts(normalize=True)[1] * 100"
      ],
      "metadata": {
        "colab": {
          "base_uri": "https://localhost:8080/"
        },
        "id": "MB4KkfdyADOC",
        "outputId": "380a356b-85f7-42b8-9452-4d1dd8043eb3"
      },
      "execution_count": null,
      "outputs": [
        {
          "output_type": "execute_result",
          "data": {
            "text/plain": [
              "0.1727485630620034"
            ]
          },
          "metadata": {},
          "execution_count": 18
        }
      ]
    },
    {
      "cell_type": "code",
      "source": [
        "# Check for imbalance data\n",
        "import seaborn as sns\n",
        "sns.countplot(x='Class', data=fraudDetection_df)"
      ],
      "metadata": {
        "colab": {
          "base_uri": "https://localhost:8080/",
          "height": 296
        },
        "id": "1CJO51S_CFe8",
        "outputId": "70804cda-edc0-47a5-9388-95fc42f2962d"
      },
      "execution_count": null,
      "outputs": [
        {
          "output_type": "execute_result",
          "data": {
            "text/plain": [
              "<matplotlib.axes._subplots.AxesSubplot at 0x7f6630c24fd0>"
            ]
          },
          "metadata": {},
          "execution_count": 22
        },
        {
          "output_type": "display_data",
          "data": {
            "text/plain": [
              "<Figure size 432x288 with 1 Axes>"
            ],
            "image/png": "[encoded data removed]"
          },
          "metadata": {
            "needs_background": "light"
          }
        }
      ]
    },
    {
      "cell_type": "code",
      "source": [
        "# Preprocessing the data \n",
        "# Find how many missing values there are in the columns.\n",
        "print (fraudDetection_df.isnull().sum())\n",
        "df_dummies = pd.get_dummies(fraudDetection_df, drop_first=True)\n",
        "print ('There are {} columns in df_dummies'.format (df_dummies.shape[1]))\n",
        "# Shuffle Rows Prior to Splitting Data into Features (X) and Outcome (Y)\n",
        "from sklearn.utils import shuffle\n",
        "\n",
        "df_shuffled = shuffle (df_dummies, random_state=42) #random_state = 0, meaning no shuffling\n",
        "\n",
        "DV = 'Class' # DV => Dependent variable\n",
        "\n",
        "x = df_shuffled.drop (DV, axis=1) # axis=1, drop the DV column, don't axis = 0\n",
        "y = df_shuffled [DV] # this our depenedent variable?"
      ],
      "metadata": {
        "colab": {
          "base_uri": "https://localhost:8080/"
        },
        "id": "zxfm_wRlAv1w",
        "outputId": "a736852f-94c3-4f8d-ef92-dcc129868718"
      },
      "execution_count": null,
      "outputs": [
        {
          "output_type": "stream",
          "name": "stdout",
          "text": [
            "Time      0\n",
            "V1        0\n",
            "V2        0\n",
            "V3        0\n",
            "V4        0\n",
            "V5        0\n",
            "V6        0\n",
            "V7        0\n",
            "Amount    0\n",
            "Class     0\n",
            "dtype: int64\n",
            "There are 10 columns in df_dummies\n"
          ]
        }
      ]
    },
    {
      "cell_type": "code",
      "source": [
        "from sklearn.model_selection import train_test_split\n",
        "from sklearn import model_selection\n",
        "#Splitting the data with pareto principle \n",
        "# 20% for training, The rest for testing\n",
        "# random_state = 42 is used to select the 20% of the data set for testing randomly\n",
        "x_train, x_test, y_train, y_test = model_selection.train_test_split (x, y, test_size=0.20, random_state=42)\n",
        "\n",
        "x_train.head()"
      ],
      "metadata": {
        "colab": {
          "base_uri": "https://localhost:8080/",
          "height": 204
        },
        "id": "PkmA-ip-DfVi",
        "outputId": "0a46b705-7fcf-47cc-f038-d2aa69b1e798"
      },
      "execution_count": null,
      "outputs": [
        {
          "output_type": "execute_result",
          "data": {
            "text/plain": [
              "            Time        V1        V2        V3        V4        V5        V6  \\\n",
              "83835    60048.0 -0.788237  0.691174  1.767582 -1.452146  1.015670  0.777573   \n",
              "37766    39094.0 -1.063987  0.295210  1.326196 -0.271287  0.454441 -0.277431   \n",
              "13920    24693.0  1.240949  0.451314  0.344166  0.697893  2.385716 -1.382097   \n",
              "185741  126804.0  0.139945  0.786389  0.482759 -0.488186 -0.406744  0.359711   \n",
              "106119   69833.0 -0.669670 -0.415620  1.575967 -2.576965 -2.062289 -0.844115   \n",
              "\n",
              "              V7  Amount  \n",
              "83835   0.018061    5.37  \n",
              "37766  -1.107715   58.19  \n",
              "13920   1.208092    1.29  \n",
              "185741 -1.813852   21.09  \n",
              "106119 -1.208502  100.45  "
            ],
            "text/html": [
              "\n",
              "  <div id=\"df-4feba412-184d-40c7-908b-a4f6050f7b25\">\n",
              "    <div class=\"colab-df-container\">\n",
              "      <div>\n",
              "<style scoped>\n",
              "    .dataframe tbody tr th:only-of-type {\n",
              "        vertical-align: middle;\n",
              "    }\n",
              "\n",
              "    .dataframe tbody tr th {\n",
              "        vertical-align: top;\n",
              "    }\n",
              "\n",
              "    .dataframe thead th {\n",
              "        text-align: right;\n",
              "    }\n",
              "</style>\n",
              "<table border=\"1\" class=\"dataframe\">\n",
              "  <thead>\n",
              "    <tr style=\"text-align: right;\">\n",
              "      <th></th>\n",
              "      <th>Time</th>\n",
              "      <th>V1</th>\n",
              "      <th>V2</th>\n",
              "      <th>V3</th>\n",
              "      <th>V4</th>\n",
              "      <th>V5</th>\n",
              "      <th>V6</th>\n",
              "      <th>V7</th>\n",
              "      <th>Amount</th>\n",
              "    </tr>\n",
              "  </thead>\n",
              "  <tbody>\n",
              "    <tr>\n",
              "      <th>83835</th>\n",
              "      <td>60048.0</td>\n",
              "      <td>-0.788237</td>\n",
              "      <td>0.691174</td>\n",
              "      <td>1.767582</td>\n",
              "      <td>-1.452146</td>\n",
              "      <td>1.015670</td>\n",
              "      <td>0.777573</td>\n",
              "      <td>0.018061</td>\n",
              "      <td>5.37</td>\n",
              "    </tr>\n",
              "    <tr>\n",
              "      <th>37766</th>\n",
              "      <td>39094.0</td>\n",
              "      <td>-1.063987</td>\n",
              "      <td>0.295210</td>\n",
              "      <td>1.326196</td>\n",
              "      <td>-0.271287</td>\n",
              "      <td>0.454441</td>\n",
              "      <td>-0.277431</td>\n",
              "      <td>-1.107715</td>\n",
              "      <td>58.19</td>\n",
              "    </tr>\n",
              "    <tr>\n",
              "      <th>13920</th>\n",
              "      <td>24693.0</td>\n",
              "      <td>1.240949</td>\n",
              "      <td>0.451314</td>\n",
              "      <td>0.344166</td>\n",
              "      <td>0.697893</td>\n",
              "      <td>2.385716</td>\n",
              "      <td>-1.382097</td>\n",
              "      <td>1.208092</td>\n",
              "      <td>1.29</td>\n",
              "    </tr>\n",
              "    <tr>\n",
              "      <th>185741</th>\n",
              "      <td>126804.0</td>\n",
              "      <td>0.139945</td>\n",
              "      <td>0.786389</td>\n",
              "      <td>0.482759</td>\n",
              "      <td>-0.488186</td>\n",
              "      <td>-0.406744</td>\n",
              "      <td>0.359711</td>\n",
              "      <td>-1.813852</td>\n",
              "      <td>21.09</td>\n",
              "    </tr>\n",
              "    <tr>\n",
              "      <th>106119</th>\n",
              "      <td>69833.0</td>\n",
              "      <td>-0.669670</td>\n",
              "      <td>-0.415620</td>\n",
              "      <td>1.575967</td>\n",
              "      <td>-2.576965</td>\n",
              "      <td>-2.062289</td>\n",
              "      <td>-0.844115</td>\n",
              "      <td>-1.208502</td>\n",
              "      <td>100.45</td>\n",
              "    </tr>\n",
              "  </tbody>\n",
              "</table>\n",
              "</div>\n",
              "      <button class=\"colab-df-convert\" onclick=\"convertToInteractive('df-4feba412-184d-40c7-908b-a4f6050f7b25')\"\n",
              "              title=\"Convert this dataframe to an interactive table.\"\n",
              "              style=\"display:none;\">\n",
              "        \n",
              "  <svg xmlns=\"http://www.w3.org/2000/svg\" height=\"24px\"viewBox=\"0 0 24 24\"\n",
              "       width=\"24px\">\n",
              "    <path d=\"M0 0h24v24H0V0z\" fill=\"none\"/>\n",
              "    <path d=\"M18.56 5.44l.94 2.06.94-2.06 2.06-.94-2.06-.94-.94-2.06-.94 2.06-2.06.94zm-11 1L8.5 8.5l.94-2.06 2.06-.94-2.06-.94L8.5 2.5l-.94 2.06-2.06.94zm10 10l.94 2.06.94-2.06 2.06-.94-2.06-.94-.94-2.06-.94 2.06-2.06.94z\"/><path d=\"M17.41 7.96l-1.37-1.37c-.4-.4-.92-.59-1.43-.59-.52 0-1.04.2-1.43.59L10.3 9.45l-7.72 7.72c-.78.78-.78 2.05 0 2.83L4 21.41c.39.39.9.59 1.41.59.51 0 1.02-.2 1.41-.59l7.78-7.78 2.81-2.81c.8-.78.8-2.07 0-2.86zM5.41 20L4 18.59l7.72-7.72 1.47 1.35L5.41 20z\"/>\n",
              "  </svg>\n",
              "      </button>\n",
              "      \n",
              "  <style>\n",
              "    .colab-df-container {\n",
              "      display:flex;\n",
              "      flex-wrap:wrap;\n",
              "      gap: 12px;\n",
              "    }\n",
              "\n",
              "    .colab-df-convert {\n",
              "      background-color: #E8F0FE;\n",
              "      border: none;\n",
              "      border-radius: 50%;\n",
              "      cursor: pointer;\n",
              "      display: none;\n",
              "      fill: #1967D2;\n",
              "      height: 32px;\n",
              "      padding: 0 0 0 0;\n",
              "      width: 32px;\n",
              "    }\n",
              "\n",
              "    .colab-df-convert:hover {\n",
              "      background-color: #E2EBFA;\n",
              "      box-shadow: 0px 1px 2px rgba(60, 64, 67, 0.3), 0px 1px 3px 1px rgba(60, 64, 67, 0.15);\n",
              "      fill: #174EA6;\n",
              "    }\n",
              "\n",
              "    [theme=dark] .colab-df-convert {\n",
              "      background-color: #3B4455;\n",
              "      fill: #D2E3FC;\n",
              "    }\n",
              "\n",
              "    [theme=dark] .colab-df-convert:hover {\n",
              "      background-color: #434B5C;\n",
              "      box-shadow: 0px 1px 3px 1px rgba(0, 0, 0, 0.15);\n",
              "      filter: drop-shadow(0px 1px 2px rgba(0, 0, 0, 0.3));\n",
              "      fill: #FFFFFF;\n",
              "    }\n",
              "  </style>\n",
              "\n",
              "      <script>\n",
              "        const buttonEl =\n",
              "          document.querySelector('#df-4feba412-184d-40c7-908b-a4f6050f7b25 button.colab-df-convert');\n",
              "        buttonEl.style.display =\n",
              "          google.colab.kernel.accessAllowed ? 'block' : 'none';\n",
              "\n",
              "        async function convertToInteractive(key) {\n",
              "          const element = document.querySelector('#df-4feba412-184d-40c7-908b-a4f6050f7b25');\n",
              "          const dataTable =\n",
              "            await google.colab.kernel.invokeFunction('convertToInteractive',\n",
              "                                                     [key], {});\n",
              "          if (!dataTable) return;\n",
              "\n",
              "          const docLinkHtml = 'Like what you see? Visit the ' +\n",
              "            '<a target=\"_blank\" href=https://colab.research.google.com/notebooks/data_table.ipynb>data table notebook</a>'\n",
              "            + ' to learn more about interactive tables.';\n",
              "          element.innerHTML = '';\n",
              "          dataTable['output_type'] = 'display_data';\n",
              "          await google.colab.output.renderOutput(dataTable, element);\n",
              "          const docLink = document.createElement('div');\n",
              "          docLink.innerHTML = docLinkHtml;\n",
              "          element.appendChild(docLink);\n",
              "        }\n",
              "      </script>\n",
              "    </div>\n",
              "  </div>\n",
              "  "
            ]
          },
          "metadata": {},
          "execution_count": 66
        }
      ]
    },
    {
      "cell_type": "code",
      "source": [
        "x_train.shape, y_train.shape"
      ],
      "metadata": {
        "colab": {
          "base_uri": "https://localhost:8080/"
        },
        "id": "B9W3d38GqCW9",
        "outputId": "dcead365-42a5-4ef6-f0c0-4effcf86c77a"
      },
      "execution_count": null,
      "outputs": [
        {
          "output_type": "execute_result",
          "data": {
            "text/plain": [
              "((227845, 9), (227845,))"
            ]
          },
          "metadata": {},
          "execution_count": 67
        }
      ]
    },
    {
      "cell_type": "code",
      "source": [
        "x_test.shape, y_test.shape"
      ],
      "metadata": {
        "colab": {
          "base_uri": "https://localhost:8080/"
        },
        "id": "YfwadZKUqFj6",
        "outputId": "f7919326-dff1-40b7-bc87-540bbec2e192"
      },
      "execution_count": null,
      "outputs": [
        {
          "output_type": "execute_result",
          "data": {
            "text/plain": [
              "((56962, 9), (56962,))"
            ]
          },
          "metadata": {},
          "execution_count": 68
        }
      ]
    },
    {
      "cell_type": "code",
      "source": [
        "# Question 2 define and build neural network \n",
        "from keras.models import Sequential\n",
        "from keras.layers import Dense\n",
        "from keras.layers import Dropout"
      ],
      "metadata": {
        "id": "LG4_jDkNZwDT"
      },
      "execution_count": null,
      "outputs": []
    },
    {
      "cell_type": "code",
      "source": [
        "classifier = Sequential()\n",
        "classifier.add(Dense(units = 6, kernel_initializer = 'uniform', activation = 'relu', input_dim = 9)) \n",
        "classifier.add(Dropout(rate = 0.1))\n",
        "classifier.add(Dense(units = 6, kernel_initializer = 'uniform', activation = 'relu')) \n",
        "classifier.add(Dropout(rate = 0.1))\n",
        "classifier.add(Dense(units = 1, kernel_initializer = 'uniform', activation = 'sigmoid')) \n",
        "classifier.add(Dropout(rate = 0.1))\n",
        "classifier.compile(optimizer = 'adam', loss='binary_crossentropy' , metrics=['accuracy'])\n",
        "classifier.fit(x_train, y_train, batch_size = 25, epochs = 100)"
      ],
      "metadata": {
        "colab": {
          "base_uri": "https://localhost:8080/"
        },
        "id": "dh55K5lddnX0",
        "outputId": "eaa7d32e-c5db-430a-88d3-52be48cd4141"
      },
      "execution_count": null,
      "outputs": [
        {
          "output_type": "stream",
          "name": "stdout",
          "text": [
            "Epoch 1/100\n",
            "9114/9114 [==============================] - 18s 2ms/step - loss: 0.0315 - accuracy: 0.9967\n",
            "Epoch 2/100\n",
            "9114/9114 [==============================] - 17s 2ms/step - loss: 0.0266 - accuracy: 0.9983\n",
            "Epoch 3/100\n",
            "9114/9114 [==============================] - 17s 2ms/step - loss: 0.0266 - accuracy: 0.9983\n",
            "Epoch 4/100\n",
            "9114/9114 [==============================] - 16s 2ms/step - loss: 0.0266 - accuracy: 0.9983\n",
            "Epoch 5/100\n",
            "9114/9114 [==============================] - 19s 2ms/step - loss: 0.0266 - accuracy: 0.9983\n",
            "Epoch 6/100\n",
            "9114/9114 [==============================] - 16s 2ms/step - loss: 0.0266 - accuracy: 0.9983\n",
            "Epoch 7/100\n",
            "9114/9114 [==============================] - 17s 2ms/step - loss: 0.0266 - accuracy: 0.9983\n",
            "Epoch 8/100\n",
            "9114/9114 [==============================] - 18s 2ms/step - loss: 0.0266 - accuracy: 0.9983\n",
            "Epoch 9/100\n",
            "9114/9114 [==============================] - 16s 2ms/step - loss: 0.0266 - accuracy: 0.9983\n",
            "Epoch 10/100\n",
            "9114/9114 [==============================] - 17s 2ms/step - loss: 0.0266 - accuracy: 0.9983\n",
            "Epoch 11/100\n",
            "9114/9114 [==============================] - 16s 2ms/step - loss: 0.0266 - accuracy: 0.9983\n",
            "Epoch 12/100\n",
            "9114/9114 [==============================] - 18s 2ms/step - loss: 0.0266 - accuracy: 0.9983\n",
            "Epoch 13/100\n",
            "9114/9114 [==============================] - 16s 2ms/step - loss: 0.0266 - accuracy: 0.9983\n",
            "Epoch 14/100\n",
            "9114/9114 [==============================] - 16s 2ms/step - loss: 0.0266 - accuracy: 0.9983\n",
            "Epoch 15/100\n",
            "9114/9114 [==============================] - 16s 2ms/step - loss: 0.0266 - accuracy: 0.9983\n",
            "Epoch 16/100\n",
            "9114/9114 [==============================] - 16s 2ms/step - loss: 0.0266 - accuracy: 0.9983\n",
            "Epoch 17/100\n",
            "9114/9114 [==============================] - 16s 2ms/step - loss: 0.0266 - accuracy: 0.9983\n",
            "Epoch 18/100\n",
            "9114/9114 [==============================] - 16s 2ms/step - loss: 0.0266 - accuracy: 0.9983\n",
            "Epoch 19/100\n",
            "9114/9114 [==============================] - 16s 2ms/step - loss: 0.0266 - accuracy: 0.9983\n",
            "Epoch 20/100\n",
            "9114/9114 [==============================] - 15s 2ms/step - loss: 0.0266 - accuracy: 0.9983\n",
            "Epoch 21/100\n",
            "9114/9114 [==============================] - 15s 2ms/step - loss: 0.0266 - accuracy: 0.9983\n",
            "Epoch 22/100\n",
            "9114/9114 [==============================] - 15s 2ms/step - loss: 0.0266 - accuracy: 0.9983\n",
            "Epoch 23/100\n",
            "9114/9114 [==============================] - 15s 2ms/step - loss: 0.0266 - accuracy: 0.9983\n",
            "Epoch 24/100\n",
            "9114/9114 [==============================] - 16s 2ms/step - loss: 0.0266 - accuracy: 0.9983\n",
            "Epoch 25/100\n",
            "9114/9114 [==============================] - 15s 2ms/step - loss: 0.0266 - accuracy: 0.9983\n",
            "Epoch 26/100\n",
            "9114/9114 [==============================] - 15s 2ms/step - loss: 0.0266 - accuracy: 0.9983\n",
            "Epoch 27/100\n",
            "9114/9114 [==============================] - 15s 2ms/step - loss: 0.0266 - accuracy: 0.9983\n",
            "Epoch 28/100\n",
            "9114/9114 [==============================] - 16s 2ms/step - loss: 0.0266 - accuracy: 0.9983\n",
            "Epoch 29/100\n",
            "9114/9114 [==============================] - 16s 2ms/step - loss: 0.0266 - accuracy: 0.9983\n",
            "Epoch 30/100\n",
            "9114/9114 [==============================] - 16s 2ms/step - loss: 0.0266 - accuracy: 0.9983\n",
            "Epoch 31/100\n",
            "9114/9114 [==============================] - 16s 2ms/step - loss: 0.0266 - accuracy: 0.9983\n",
            "Epoch 32/100\n",
            "9114/9114 [==============================] - 15s 2ms/step - loss: 0.0266 - accuracy: 0.9983\n",
            "Epoch 33/100\n",
            "9114/9114 [==============================] - 16s 2ms/step - loss: 0.0266 - accuracy: 0.9983\n",
            "Epoch 34/100\n",
            "9114/9114 [==============================] - 15s 2ms/step - loss: 0.0266 - accuracy: 0.9983\n",
            "Epoch 35/100\n",
            "9114/9114 [==============================] - 16s 2ms/step - loss: 0.0266 - accuracy: 0.9983\n",
            "Epoch 36/100\n",
            "9114/9114 [==============================] - 15s 2ms/step - loss: 0.0266 - accuracy: 0.9983\n",
            "Epoch 37/100\n",
            "9114/9114 [==============================] - 15s 2ms/step - loss: 0.0266 - accuracy: 0.9983\n",
            "Epoch 38/100\n",
            "9114/9114 [==============================] - 16s 2ms/step - loss: 0.0266 - accuracy: 0.9983\n",
            "Epoch 39/100\n",
            "9114/9114 [==============================] - 16s 2ms/step - loss: 0.0266 - accuracy: 0.9983\n",
            "Epoch 40/100\n",
            "9114/9114 [==============================] - 16s 2ms/step - loss: 0.0266 - accuracy: 0.9983\n",
            "Epoch 41/100\n",
            "9114/9114 [==============================] - 16s 2ms/step - loss: 0.0266 - accuracy: 0.9983\n",
            "Epoch 42/100\n",
            "9114/9114 [==============================] - 16s 2ms/step - loss: 0.0266 - accuracy: 0.9983\n",
            "Epoch 43/100\n",
            "9114/9114 [==============================] - 16s 2ms/step - loss: 0.0266 - accuracy: 0.9983\n",
            "Epoch 44/100\n",
            "9114/9114 [==============================] - 16s 2ms/step - loss: 0.0266 - accuracy: 0.9983\n",
            "Epoch 45/100\n",
            "9114/9114 [==============================] - 15s 2ms/step - loss: 0.0266 - accuracy: 0.9983\n",
            "Epoch 46/100\n",
            "9114/9114 [==============================] - 15s 2ms/step - loss: 0.0266 - accuracy: 0.9983\n",
            "Epoch 47/100\n",
            "9114/9114 [==============================] - 15s 2ms/step - loss: 0.0266 - accuracy: 0.9983\n",
            "Epoch 48/100\n",
            "9114/9114 [==============================] - 15s 2ms/step - loss: 0.0266 - accuracy: 0.9983\n",
            "Epoch 49/100\n",
            "9114/9114 [==============================] - 15s 2ms/step - loss: 0.0266 - accuracy: 0.9983\n",
            "Epoch 50/100\n",
            "9114/9114 [==============================] - 16s 2ms/step - loss: 0.0266 - accuracy: 0.9983\n",
            "Epoch 51/100\n",
            "9114/9114 [==============================] - 16s 2ms/step - loss: 0.0266 - accuracy: 0.9983\n",
            "Epoch 52/100\n",
            "9114/9114 [==============================] - 16s 2ms/step - loss: 0.0266 - accuracy: 0.9983\n",
            "Epoch 53/100\n",
            "9114/9114 [==============================] - 16s 2ms/step - loss: 0.0266 - accuracy: 0.9983\n",
            "Epoch 54/100\n",
            "9114/9114 [==============================] - 16s 2ms/step - loss: 0.0266 - accuracy: 0.9983\n",
            "Epoch 55/100\n",
            "9114/9114 [==============================] - 17s 2ms/step - loss: 0.0266 - accuracy: 0.9983\n",
            "Epoch 56/100\n",
            "9114/9114 [==============================] - 16s 2ms/step - loss: 0.0266 - accuracy: 0.9983\n",
            "Epoch 57/100\n",
            "9114/9114 [==============================] - 15s 2ms/step - loss: 0.0266 - accuracy: 0.9983\n",
            "Epoch 58/100\n",
            "9114/9114 [==============================] - 15s 2ms/step - loss: 0.0266 - accuracy: 0.9983\n",
            "Epoch 59/100\n",
            "9114/9114 [==============================] - 15s 2ms/step - loss: 0.0266 - accuracy: 0.9983\n",
            "Epoch 60/100\n",
            "9114/9114 [==============================] - 15s 2ms/step - loss: 0.0266 - accuracy: 0.9983\n",
            "Epoch 61/100\n",
            "9114/9114 [==============================] - 15s 2ms/step - loss: 0.0266 - accuracy: 0.9983\n",
            "Epoch 62/100\n",
            "9114/9114 [==============================] - 15s 2ms/step - loss: 0.0266 - accuracy: 0.9983\n",
            "Epoch 63/100\n",
            "9114/9114 [==============================] - 15s 2ms/step - loss: 0.0266 - accuracy: 0.9983\n",
            "Epoch 64/100\n",
            "9114/9114 [==============================] - 15s 2ms/step - loss: 0.0266 - accuracy: 0.9983\n",
            "Epoch 65/100\n",
            "9114/9114 [==============================] - 15s 2ms/step - loss: 0.0266 - accuracy: 0.9983\n",
            "Epoch 66/100\n",
            "9114/9114 [==============================] - 15s 2ms/step - loss: 0.0266 - accuracy: 0.9983\n",
            "Epoch 67/100\n",
            "9114/9114 [==============================] - 15s 2ms/step - loss: 0.0266 - accuracy: 0.9983\n",
            "Epoch 68/100\n",
            "9114/9114 [==============================] - 15s 2ms/step - loss: 0.0266 - accuracy: 0.9983\n",
            "Epoch 69/100\n",
            "9114/9114 [==============================] - 15s 2ms/step - loss: 0.0266 - accuracy: 0.9983\n",
            "Epoch 70/100\n",
            "9114/9114 [==============================] - 15s 2ms/step - loss: 0.0266 - accuracy: 0.9983\n",
            "Epoch 71/100\n",
            "9114/9114 [==============================] - 15s 2ms/step - loss: 0.0266 - accuracy: 0.9983\n",
            "Epoch 72/100\n",
            "9114/9114 [==============================] - 15s 2ms/step - loss: 0.0266 - accuracy: 0.9983\n",
            "Epoch 73/100\n",
            "9114/9114 [==============================] - 15s 2ms/step - loss: 0.0266 - accuracy: 0.9983\n",
            "Epoch 74/100\n",
            "9114/9114 [==============================] - 15s 2ms/step - loss: 0.0266 - accuracy: 0.9983\n",
            "Epoch 75/100\n",
            "9114/9114 [==============================] - 15s 2ms/step - loss: 0.0266 - accuracy: 0.9983\n",
            "Epoch 76/100\n",
            "9114/9114 [==============================] - 15s 2ms/step - loss: 0.0266 - accuracy: 0.9983\n",
            "Epoch 77/100\n",
            "9114/9114 [==============================] - 15s 2ms/step - loss: 0.0266 - accuracy: 0.9983\n",
            "Epoch 78/100\n",
            "9114/9114 [==============================] - 15s 2ms/step - loss: 0.0266 - accuracy: 0.9983\n",
            "Epoch 79/100\n",
            "9114/9114 [==============================] - 15s 2ms/step - loss: 0.0266 - accuracy: 0.9983\n",
            "Epoch 80/100\n",
            "9114/9114 [==============================] - 15s 2ms/step - loss: 0.0266 - accuracy: 0.9983\n",
            "Epoch 81/100\n",
            "9114/9114 [==============================] - 15s 2ms/step - loss: 0.0266 - accuracy: 0.9983\n",
            "Epoch 82/100\n",
            "9114/9114 [==============================] - 15s 2ms/step - loss: 0.0266 - accuracy: 0.9983\n",
            "Epoch 83/100\n",
            "9114/9114 [==============================] - 15s 2ms/step - loss: 0.0266 - accuracy: 0.9983\n",
            "Epoch 84/100\n",
            "9114/9114 [==============================] - 15s 2ms/step - loss: 0.0266 - accuracy: 0.9983\n",
            "Epoch 85/100\n",
            "9114/9114 [==============================] - 15s 2ms/step - loss: 0.0266 - accuracy: 0.9983\n",
            "Epoch 86/100\n",
            "9114/9114 [==============================] - 15s 2ms/step - loss: 0.0266 - accuracy: 0.9983\n",
            "Epoch 87/100\n",
            "9114/9114 [==============================] - 15s 2ms/step - loss: 0.0266 - accuracy: 0.9983\n",
            "Epoch 88/100\n",
            "9114/9114 [==============================] - 15s 2ms/step - loss: 0.0266 - accuracy: 0.9983\n",
            "Epoch 89/100\n",
            "9114/9114 [==============================] - 15s 2ms/step - loss: 0.0266 - accuracy: 0.9983\n",
            "Epoch 90/100\n",
            "9114/9114 [==============================] - 15s 2ms/step - loss: 0.0266 - accuracy: 0.9983\n",
            "Epoch 91/100\n",
            "9114/9114 [==============================] - 15s 2ms/step - loss: 0.0266 - accuracy: 0.9983\n",
            "Epoch 92/100\n",
            "9114/9114 [==============================] - 15s 2ms/step - loss: 0.0266 - accuracy: 0.9983\n",
            "Epoch 93/100\n",
            "9114/9114 [==============================] - 15s 2ms/step - loss: 0.0266 - accuracy: 0.9983\n",
            "Epoch 94/100\n",
            "9114/9114 [==============================] - 15s 2ms/step - loss: 0.0266 - accuracy: 0.9983\n",
            "Epoch 95/100\n",
            "9114/9114 [==============================] - 22s 2ms/step - loss: 0.0266 - accuracy: 0.9983\n",
            "Epoch 96/100\n",
            "9114/9114 [==============================] - 16s 2ms/step - loss: 0.0266 - accuracy: 0.9983\n",
            "Epoch 97/100\n",
            "9114/9114 [==============================] - 17s 2ms/step - loss: 0.0266 - accuracy: 0.9983\n",
            "Epoch 98/100\n",
            "9114/9114 [==============================] - 17s 2ms/step - loss: 0.0266 - accuracy: 0.9983\n",
            "Epoch 99/100\n",
            "9114/9114 [==============================] - 16s 2ms/step - loss: 0.0266 - accuracy: 0.9983\n",
            "Epoch 100/100\n",
            "9114/9114 [==============================] - 17s 2ms/step - loss: 0.0266 - accuracy: 0.9983\n"
          ]
        },
        {
          "output_type": "execute_result",
          "data": {
            "text/plain": [
              "<keras.callbacks.History at 0x7f65bd32ce50>"
            ]
          },
          "metadata": {},
          "execution_count": 70
        }
      ]
    },
    {
      "cell_type": "code",
      "source": [
        "import numpy as np\n",
        "scores = classifier.evaluate(np.array(x_test), np.array(y_test))"
      ],
      "metadata": {
        "colab": {
          "base_uri": "https://localhost:8080/"
        },
        "id": "pSfHDVaRdxut",
        "outputId": "2c74e80b-f408-40b1-95cf-040760de18bc"
      },
      "execution_count": null,
      "outputs": [
        {
          "output_type": "stream",
          "name": "stdout",
          "text": [
            "1781/1781 [==============================] - 3s 2ms/step - loss: 0.0268 - accuracy: 0.9983\n"
          ]
        }
      ]
    },
    {
      "cell_type": "code",
      "source": [
        "train_score = classifier.evaluate(np.array(x_train), np.array(y_train))"
      ],
      "metadata": {
        "colab": {
          "base_uri": "https://localhost:8080/"
        },
        "id": "fke7tkBEd47m",
        "outputId": "e4d48a21-904a-4f48-9ad6-0e46c88e5300"
      },
      "execution_count": null,
      "outputs": [
        {
          "output_type": "stream",
          "name": "stdout",
          "text": [
            "7121/7121 [==============================] - 12s 2ms/step - loss: 0.0266 - accuracy: 0.9983\n"
          ]
        }
      ]
    },
    {
      "cell_type": "code",
      "source": [
        "print(\"\\n%s: %.2f%%\" % (classifier.metrics_names[1], scores[1]*100))"
      ],
      "metadata": {
        "colab": {
          "base_uri": "https://localhost:8080/"
        },
        "id": "5Co-Xs8xd5de",
        "outputId": "97a92ce1-bfbf-4e90-e496-a430c6a274cf"
      },
      "execution_count": null,
      "outputs": [
        {
          "output_type": "stream",
          "name": "stdout",
          "text": [
            "\n",
            "accuracy: 99.83%\n"
          ]
        }
      ]
    },
    {
      "cell_type": "code",
      "source": [
        "# Get predictions\n",
        "train_set_preds = [round(x[0]) for x in classifier.predict(x_train)]\n",
        "test_set_preds = [round(x[0]) for x in classifier.predict(x_test)]"
      ],
      "metadata": {
        "id": "ZjrXUsmZd7v6"
      },
      "execution_count": null,
      "outputs": []
    },
    {
      "cell_type": "code",
      "source": [
        "from sklearn.metrics import accuracy_score, roc_curve, auc\n",
        "print('Accuracy for test set: %0.4f' % accuracy_score(y_test, test_set_preds))\n",
        "print('Accuracy for train set: %0.4f' % accuracy_score(y_train, train_set_preds))\n"
      ],
      "metadata": {
        "colab": {
          "base_uri": "https://localhost:8080/"
        },
        "id": "YHgIhZ-YonF8",
        "outputId": "7a3468ab-0afe-4668-ac30-0fe5d47f1dae"
      },
      "execution_count": null,
      "outputs": [
        {
          "output_type": "stream",
          "name": "stdout",
          "text": [
            "Accuracy for test set: 0.9983\n",
            "Accuracy for train set: 0.9983\n"
          ]
        }
      ]
    },
    {
      "cell_type": "code",
      "source": [
        "train_preds = [x[0] for x in classifier.predict(x_train)]\n",
        "test_preds = [x[0] for x in classifier.predict(x_test)]"
      ],
      "metadata": {
        "id": "FVhMTUwvopz9"
      },
      "execution_count": null,
      "outputs": []
    },
    {
      "cell_type": "code",
      "source": [
        "from sklearn.metrics import roc_curve, auc\n",
        "# Get AUC \n",
        "train_fpr, train_tpr, train_thresholds = roc_curve(y_train, train_preds)\n",
        "test_fpr, test_tpr, test_thresholds = roc_curve(y_test, test_preds)\n",
        "\n",
        "train_roc_auc = auc(train_fpr, train_tpr)\n",
        "test_roc_auc = auc(test_fpr, test_tpr)\n",
        "\n",
        "print('AUC for train set: %0.4f' % train_roc_auc)\n",
        "print('AUC for test set: %0.4f' % test_roc_auc)"
      ],
      "metadata": {
        "colab": {
          "base_uri": "https://localhost:8080/"
        },
        "id": "nnoC3dXzpiMB",
        "outputId": "ede394f5-9aca-4379-b173-32f5e097bf58"
      },
      "execution_count": null,
      "outputs": [
        {
          "output_type": "stream",
          "name": "stdout",
          "text": [
            "AUC for train set: 0.5000\n",
            "AUC for test set: 0.5000\n"
          ]
        }
      ]
    },
    {
      "cell_type": "code",
      "source": [
        "import matplotlib.pyplot as plt\n",
        "# Visualize ROC curve\n",
        "plt.figure(figsize=(7, 5), dpi=80)\n",
        "plt.plot(test_fpr,\n",
        "         test_tpr,\n",
        "         color='tomato',\n",
        "         label='ROC curve for test set (area = %0.4f)' % test_roc_auc)\n",
        "plt.plot(train_fpr,\n",
        "         train_tpr,\n",
        "         color='dodgerblue',\n",
        "         label='ROC curve for train set (area = %0.4f)' % train_roc_auc)\n",
        "\n",
        "plt.plot([0, 1], [0, 1], color='gray', lw=1, linestyle='--')\n",
        "plt.xlim([0.0, 1.0])\n",
        "plt.ylim([0.0, 1.05])\n",
        "plt.xlabel('False Positive Rate', fontsize=14)\n",
        "plt.ylabel('True Positive Rate', fontsize=14)\n",
        "plt.title('ROC Curve', fontsize=16)\n",
        "plt.legend(loc=\"lower right\")\n",
        "\n",
        "plt.show()"
      ],
      "metadata": {
        "colab": {
          "base_uri": "https://localhost:8080/",
          "height": 392
        },
        "id": "09D1LChdpkPV",
        "outputId": "154c1ae1-5e5f-4c72-85a8-19a9f7380498"
      },
      "execution_count": null,
      "outputs": [
        {
          "output_type": "display_data",
          "data": {
            "text/plain": [
              "<Figure size 560x400 with 1 Axes>"
            ],
            "image/png": "[encoded data removed]"
          },
          "metadata": {
            "needs_background": "light"
          }
        }
      ]
    },
    {
      "cell_type": "code",
      "source": [
        "# import the class\n",
        "from sklearn.linear_model import LogisticRegression\n",
        "\n",
        "# instantiate the model (using the default parameters)\n",
        "logreg = LogisticRegression()"
      ],
      "metadata": {
        "id": "BdhzVhfJzHt5"
      },
      "execution_count": null,
      "outputs": []
    },
    {
      "cell_type": "code",
      "source": [
        "# fit the model with data\n",
        "logreg.fit(x_train,y_train)"
      ],
      "metadata": {
        "colab": {
          "base_uri": "https://localhost:8080/"
        },
        "id": "-kX5MNfUzN6y",
        "outputId": "128b7b25-cf69-4558-ede1-cca5c8f897cc"
      },
      "execution_count": null,
      "outputs": [
        {
          "output_type": "stream",
          "name": "stderr",
          "text": [
            "/usr/local/lib/python3.7/dist-packages/sklearn/linear_model/_logistic.py:818: ConvergenceWarning: lbfgs failed to converge (status=1):\n",
            "STOP: TOTAL NO. of ITERATIONS REACHED LIMIT.\n",
            "\n",
            "Increase the number of iterations (max_iter) or scale the data as shown in:\n",
            "    https://scikit-learn.org/stable/modules/preprocessing.html\n",
            "Please also refer to the documentation for alternative solver options:\n",
            "    https://scikit-learn.org/stable/modules/linear_model.html#logistic-regression\n",
            "  extra_warning_msg=_LOGISTIC_SOLVER_CONVERGENCE_MSG,\n"
          ]
        },
        {
          "output_type": "execute_result",
          "data": {
            "text/plain": [
              "LogisticRegression()"
            ]
          },
          "metadata": {},
          "execution_count": 82
        }
      ]
    },
    {
      "cell_type": "code",
      "source": [
        "#\n",
        "y_pred=logreg.predict(x_test)\n",
        "\n",
        "from sklearn.metrics import accuracy_score\n",
        "accuracy_score(y_test, y_pred)"
      ],
      "metadata": {
        "colab": {
          "base_uri": "https://localhost:8080/"
        },
        "id": "QSiD6UNAzQkR",
        "outputId": "d700b551-75f8-4be2-ff14-eeb47684da24"
      },
      "execution_count": null,
      "outputs": [
        {
          "output_type": "execute_result",
          "data": {
            "text/plain": [
              "0.9971033320459254"
            ]
          },
          "metadata": {},
          "execution_count": 83
        }
      ]
    },
    {
      "cell_type": "code",
      "source": [
        "train_preds_logreg = [x[0] for x in classifier.predict(x_train)]\n",
        "test_preds_logreg = [x[0] for x in classifier.predict(x_test)]"
      ],
      "metadata": {
        "id": "-XiMwNAM21y5"
      },
      "execution_count": null,
      "outputs": []
    },
    {
      "cell_type": "code",
      "source": [
        "# Get AUC \n",
        "train_fpr_logreg, train_tpr_logreg, train_thresholds = roc_curve(y_train, train_preds_logreg)\n",
        "test_fpr_logreg, test_tpr_logreg, test_thresholds = roc_curve(y_test, test_preds_logreg)\n",
        "\n",
        "train_roc_auc_logreg = auc(train_fpr_logreg, train_tpr_logreg)\n",
        "test_roc_auc_logreg = auc(test_fpr_logreg, test_tpr_logreg)\n",
        "\n",
        "print('AUC for train set: %0.4f' % train_roc_auc_logreg)\n",
        "print('AUC for test set: %0.4f' % test_roc_auc_logreg)"
      ],
      "metadata": {
        "colab": {
          "base_uri": "https://localhost:8080/"
        },
        "id": "V65iLw1i28SR",
        "outputId": "cb0c6bbd-f900-447e-eb7f-013d351e793e"
      },
      "execution_count": null,
      "outputs": [
        {
          "output_type": "stream",
          "name": "stdout",
          "text": [
            "AUC for train set: 0.5000\n",
            "AUC for test set: 0.5000\n"
          ]
        }
      ]
    },
    {
      "cell_type": "code",
      "source": [
        "import matplotlib.pyplot as plt\n",
        "# Visualize ROC curve\n",
        "plt.figure(figsize=(7, 5), dpi=80)\n",
        "plt.plot(test_fpr_logreg,\n",
        "         test_fpr_logreg,\n",
        "         color='tomato',\n",
        "         label='ROC curve for test set (area = %0.4f)' % test_roc_auc_logreg)\n",
        "plt.plot(train_fpr_logreg,\n",
        "         train_fpr_logreg,\n",
        "         color='dodgerblue',\n",
        "         label='ROC curve for train set (area = %0.4f)' % train_roc_auc_logreg)\n",
        "\n",
        "plt.plot([0, 1], [0, 1], color='gray', lw=1, linestyle='--')\n",
        "plt.xlim([0.0, 1.0])\n",
        "plt.ylim([0.0, 1.05])\n",
        "plt.xlabel('False Positive Rate', fontsize=14)\n",
        "plt.ylabel('True Positive Rate', fontsize=14)\n",
        "plt.title('ROC Curve', fontsize=16)\n",
        "plt.legend(loc=\"lower right\")\n",
        "\n",
        "plt.show()"
      ],
      "metadata": {
        "colab": {
          "base_uri": "https://localhost:8080/",
          "height": 392
        },
        "id": "xqjo7-3y3O0E",
        "outputId": "7c620975-9446-4ac7-d6fb-49da02d9c045"
      },
      "execution_count": null,
      "outputs": [
        {
          "output_type": "display_data",
          "data": {
            "text/plain": [
              "<Figure size 560x400 with 1 Axes>"
            ],
            "image/png": "[encoded data removed]"
          },
          "metadata": {
            "needs_background": "light"
          }
        }
      ]
    }
  ]
}